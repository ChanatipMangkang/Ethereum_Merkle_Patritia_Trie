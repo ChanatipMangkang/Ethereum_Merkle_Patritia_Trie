{
 "cells": [
  {
   "cell_type": "code",
   "execution_count": 1,
   "metadata": {},
   "outputs": [],
   "source": [
    "import sys\n",
    "sys.path.append('src')\n",
    "import trie, utils, rlp"
   ]
  },
  {
   "cell_type": "code",
   "execution_count": 2,
   "metadata": {},
   "outputs": [],
   "source": [
    "def convert_to_hex_escape(x):\n",
    "    #used to force it to not print the char asscociated with that hex\n",
    "    def converter(s):\n",
    "        return ''.join('\\\\x{:02x}'.format(ord(c)) for c in s)\n",
    "    converted_value = []\n",
    "    if type(x) == list:\n",
    "        for i in x:\n",
    "            if type(i) == list:\n",
    "                converted_value.append([converter(i[0]),i[1]])\n",
    "            else:\n",
    "                converted_value.append(converter(i))\n",
    "\n",
    "        #check if it is a branch node\n",
    "        if len(x) == 17:\n",
    "            return converted_value[:-1] + [x[-1]]\n",
    "        else:\n",
    "            return converted_value\n",
    "    else:\n",
    "        return converter(x)\n"
   ]
  },
  {
   "cell_type": "markdown",
   "metadata": {},
   "source": [
    "# Ex1\n",
    "add one leaf node"
   ]
  },
  {
   "cell_type": "code",
   "execution_count": 3,
   "metadata": {},
   "outputs": [
    {
     "name": "stdout",
     "output_type": "stream",
     "text": [
      "\n",
      "hp encoded key, in hex:\n",
      "20010101\n",
      "\n",
      "root node:\n",
      "[' \\x01\\x01\\x01', 'hello']\n",
      "key hex escape form: \\x20\\x01\\x01\\x01\n",
      "\n",
      "root hash:\n",
      "60ea522a5d21d6e5f16bb42de67409733c9dd5ed321cd34e82e26fe268ebcc62\n"
     ]
    }
   ],
   "source": [
    "#create empty trie\n",
    "state = trie.Trie('trie_db', trie.BLANK_ROOT)\n",
    "\n",
    "#add key-value pair (010101, 'hello')\n",
    "state.update('\\x01\\x01\\x01', 'hello')\n",
    "\n",
    "k, v = state.root_node\n",
    "\n",
    "#check the encoded key\n",
    "print '\\nhp encoded key, in hex:\\n', k.encode('hex')\n",
    "\n",
    "#check node at the root\n",
    "print '\\nroot node:\\n', [k, v]\n",
    "print 'key hex escape form:', convert_to_hex_escape(k)\n",
    "\n",
    "#check root hash\n",
    "print '\\nroot hash:\\n', state.root_hash.encode('hex')"
   ]
  },
  {
   "cell_type": "code",
   "execution_count": 4,
   "metadata": {},
   "outputs": [
    {
     "name": "stdout",
     "output_type": "stream",
     "text": [
      "60ea522a5d21d6e5f16bb42de67409733c9dd5ed321cd34e82e26fe268ebcc62\n",
      "60ea522a5d21d6e5f16bb42de67409733c9dd5ed321cd34e82e26fe268ebcc62\n"
     ]
    }
   ],
   "source": [
    "print utils.sha3(rlp.encode([\"\\x20\\x01\\x01\\x01\", v])).encode('hex')\n",
    "print utils.sha3(rlp.encode([\" \\x01\\x01\\x01\", v])).encode('hex')"
   ]
  },
  {
   "cell_type": "markdown",
   "metadata": {},
   "source": [
    "# Ex2\n",
    "add another node that share 0101 path with the above example node but try to make it short so that it doesn't get stored with hash"
   ]
  },
  {
   "cell_type": "code",
   "execution_count": 5,
   "metadata": {},
   "outputs": [
    {
     "name": "stdout",
     "output_type": "stream",
     "text": [
      "root hash 60ea522a5d21d6e5f16bb42de67409733c9dd5ed321cd34e82e26fe268ebcc62\n"
     ]
    }
   ],
   "source": [
    "#initialize trie like in Ex1\n",
    "state = trie.Trie('trie_db', trie.BLANK_ROOT)\n",
    "\n",
    "#add key-value pair (010101, 'hello')\n",
    "state.update('\\x01\\x01\\x01', 'hello')\n",
    "\n",
    "#check that the root is matched with the Ex1\n",
    "print 'root hash', state.root_hash.encode('hex')\n",
    "k, v = state.root_node"
   ]
  },
  {
   "cell_type": "code",
   "execution_count": 6,
   "metadata": {},
   "outputs": [
    {
     "name": "stdout",
     "output_type": "stream",
     "text": [
      "---------AFTER UPDATE----------\n",
      "\n",
      "hp encoded key, in hex:\n",
      "000101\n",
      "\n",
      "root node:\n",
      "['\\x00\\x01\\x01', [['\\\\x31', 'hello'], '', '', '', '', '', '', '', ['\\\\x32\\\\x11', 'w'], '', '', '', '', '', '', '', '']]\n",
      "key hex escape form: \\x00\\x01\\x01\n",
      "\n",
      "root hash:\n",
      "6f52a5679459075d2debfb2f5c0c4b7845d60c84b9154b2bcb9dd605734ea2c3\n"
     ]
    }
   ],
   "source": [
    "# add '\\x01\\x01\\x82\\x11', 'w' key-value pair to the trie\n",
    "state.update('\\x01\\x01\\x82\\x11', 'w')\n",
    "\n",
    "print '---------AFTER UPDATE----------'\n",
    "k, v = state.root_node\n",
    "#check the encoded key\n",
    "print '\\nhp encoded key, in hex:\\n', k.encode('hex')\n",
    "\n",
    "#check node at the root\n",
    "# convert_to_hex_escape is a function that help prevent \\xHH hexadecimal to be converted to its asscociate char\n",
    "# for example \"\\x56\" will be converted to \"V\" upon printed \n",
    "# convert_to_hex_escape is put here to force \"\\x56\" to be printed as \"\\\\x56\" not \"V\"\n",
    "print '\\nroot node:\\n', [k, convert_to_hex_escape(v)]\n",
    "print 'key hex escape form:', convert_to_hex_escape(k)\n",
    "\n",
    "#check root hash\n",
    "print '\\nroot hash:\\n', state.root_hash.encode('hex')"
   ]
  },
  {
   "cell_type": "code",
   "execution_count": 7,
   "metadata": {},
   "outputs": [
    {
     "name": "stdout",
     "output_type": "stream",
     "text": [
      "\n",
      "value stored within the extension node:\n",
      "[['\\\\x31', 'hello'], '', '', '', '', '', '', '', ['\\\\x32\\\\x11', 'w'], '', '', '', '', '', '', '', '']\n",
      "\n",
      "lenght of the RLP encoded value:\n",
      "29\n"
     ]
    }
   ],
   "source": [
    "#print the branch node stored within the extension node\n",
    "print '\\nvalue stored within the extension node:\\n', convert_to_hex_escape(v)\n",
    "\n",
    "#print the lenght of the RLP encoded of the value with in the extension node\n",
    "print '\\nlenght of the RLP encoded value:\\n', len(rlp.encode(v))\n"
   ]
  },
  {
   "cell_type": "markdown",
   "metadata": {},
   "source": [
    "# Ex3\n",
    "The same as the above example but make the added node long enough so that the branch node is stored using hash"
   ]
  },
  {
   "cell_type": "code",
   "execution_count": 8,
   "metadata": {},
   "outputs": [
    {
     "name": "stdout",
     "output_type": "stream",
     "text": [
      "root hash 60ea522a5d21d6e5f16bb42de67409733c9dd5ed321cd34e82e26fe268ebcc62\n"
     ]
    }
   ],
   "source": [
    "#initialize trie like in Ex1\n",
    "state = trie.Trie('trie_db', trie.BLANK_ROOT)\n",
    "\n",
    "#add key-value pair (010101, 'hello')\n",
    "state.update('\\x01\\x01\\x01', 'hello')\n",
    "\n",
    "#check that the root is matched with the Ex1\n",
    "print 'root hash', state.root_hash.encode('hex')\n",
    "k, v = state.root_node"
   ]
  },
  {
   "cell_type": "code",
   "execution_count": 9,
   "metadata": {},
   "outputs": [
    {
     "name": "stdout",
     "output_type": "stream",
     "text": [
      "---------AFTER UPDATE----------\n",
      "\n",
      "hp encoded key, in hex:\n",
      "000101\n",
      "\n",
      "root node:\n",
      "['\\x00\\x01\\x01', 'f4a5bad12eed2a953dd05d85101defbaf7eee8de2a1643eda849567058e697bc']\n",
      "key hex escape form: \\x00\\x01\\x01\n",
      "\n",
      "root hash:\n",
      "54405b51e4e94e0e5058bdba7f2cb6bab0fafb7b949590053a92d41a63fbdce2\n"
     ]
    }
   ],
   "source": [
    "# use \"world\" instead of \"w\"\n",
    "state.update('\\x01\\x01\\x82\\x11', 'world')\n",
    "\n",
    "print '---------AFTER UPDATE----------'\n",
    "k, v = state.root_node\n",
    "#check the encoded key\n",
    "print '\\nhp encoded key, in hex:\\n', k.encode('hex')\n",
    "\n",
    "#check node at the root\n",
    "print '\\nroot node:\\n', [k, v.encode('hex')]\n",
    "print 'key hex escape form:', convert_to_hex_escape(k)\n",
    "\n",
    "#check root hash\n",
    "print '\\nroot hash:\\n', state.root_hash.encode('hex')"
   ]
  },
  {
   "cell_type": "code",
   "execution_count": 10,
   "metadata": {},
   "outputs": [
    {
     "name": "stdout",
     "output_type": "stream",
     "text": [
      "\n",
      "Hash hex version:\n",
      "\\xf4\\xa5\\xba\\xd1\\x2e\\xed\\x2a\\x95\\x3d\\xd0\\x5d\\x85\\x10\\x1d\\xef\\xba\\xf7\\xee\\xe8\\xde\\x2a\\x16\\x43\\xed\\xa8\\x49\\x56\\x70\\x58\\xe6\\x97\\xbc\n",
      "\n",
      "hex version of the hash:\n",
      "f4a5bad12eed2a953dd05d85101defbaf7eee8de2a1643eda849567058e697bc\n",
      "\n",
      "branch node value:\n",
      "[['\\\\x31', 'hello'], '', '', '', '', '', '', '', ['\\\\x32\\\\x11', 'world'], '', '', '', '', '', '', '', '']\n",
      "\n",
      "length of the RLP encoded value:\n",
      "34\n",
      "\n",
      "check the hash:\n",
      "f4a5bad12eed2a953dd05d85101defbaf7eee8de2a1643eda849567058e697bc\n"
     ]
    }
   ],
   "source": [
    "# print the hash that point to the branch node\n",
    "print '\\nHash hex version:\\n', convert_to_hex_escape(v)\n",
    "print '\\nhex version of the hash:\\n', v.encode('hex')\n",
    "\n",
    "#get the real value stored with in the branch node\n",
    "print '\\nbranch node value:\\n', convert_to_hex_escape(state._decode_to_node(v))\n",
    "\n",
    "#check length of the RLP encoded branch node\n",
    "print '\\nlength of the RLP encoded value:\\n', len(rlp.encode(state._decode_to_node(v)))\n",
    "\n",
    "#try hash the above list to check that it is equal to the f4a5bad12eed2a953dd05d85101defbaf7eee8de2a1643eda849567058e697bc\n",
    "print \"\\ncheck the hash:\\n\", utils.sha3(rlp.encode(state._decode_to_node(v))).encode('hex')"
   ]
  },
  {
   "cell_type": "markdown",
   "metadata": {},
   "source": [
    "# Ex4\n",
    "add value to the branch node of the above example"
   ]
  },
  {
   "cell_type": "code",
   "execution_count": 11,
   "metadata": {},
   "outputs": [
    {
     "name": "stdout",
     "output_type": "stream",
     "text": [
      "\n",
      "branch node value:\n",
      "[['\\\\x31', 'hello'], '', '', '', '', '', '', '', ['\\\\x32\\\\x11', 'world'], '', '', '', '', '', '', '', '']\n"
     ]
    }
   ],
   "source": [
    "#initialize trie like in Ex1\n",
    "state = trie.Trie('trie_db', trie.BLANK_ROOT)\n",
    "\n",
    "#add key-value pair (010101, 'hello')\n",
    "state.update('\\x01\\x01\\x01', 'hello')\n",
    "\n",
    "#add key-value pair (01018211, 'world')\n",
    "state.update('\\x01\\x01\\x82\\x11', 'world')\n",
    "\n",
    "k, v = state.root_node\n",
    "#get the real value stored with in the branch node\n",
    "print '\\nbranch node value:\\n', convert_to_hex_escape(state._decode_to_node(v))"
   ]
  },
  {
   "cell_type": "code",
   "execution_count": 12,
   "metadata": {},
   "outputs": [
    {
     "name": "stdout",
     "output_type": "stream",
     "text": [
      "---------AFTER UPDATE----------\n",
      "\n",
      "root node:\n",
      "['\\x00\\x01\\x01', '4ba5c3b9b75ae9729d8c64cc7093babbfe77e661a7a0df214ea278c9a00c1aad']\n",
      "\n",
      "branch node value:\n",
      "[['\\\\x31', 'hello'], '', '', '', '', '', '', '', ['\\\\x32\\\\x11', 'world'], '', '', '', '', '', '', '', 'Gluon']\n"
     ]
    }
   ],
   "source": [
    "#add value \"Gluon\" to the branch node\n",
    "state.update('\\x01\\x01', 'Gluon')\n",
    "\n",
    "print '---------AFTER UPDATE----------'\n",
    "k, v = state.root_node\n",
    "\n",
    "#check node at the root\n",
    "print '\\nroot node:\\n', [k, v.encode('hex')]\n",
    "\n",
    "#get the real value stored with in the branch node\n",
    "print '\\nbranch node value:\\n', convert_to_hex_escape(state._decode_to_node(v))"
   ]
  },
  {
   "cell_type": "markdown",
   "metadata": {},
   "source": [
    "# Ex5\n",
    "try to add two value that make the length of the shared nibbles odd so that the path is shown explicitly"
   ]
  },
  {
   "cell_type": "code",
   "execution_count": 22,
   "metadata": {},
   "outputs": [
    {
     "name": "stdout",
     "output_type": "stream",
     "text": [
      "\n",
      "root node:\n",
      "['\\x00\\x01\\x01', '4ba5c3b9b75ae9729d8c64cc7093babbfe77e661a7a0df214ea278c9a00c1aad']\n",
      "\n",
      "branch node value:\n",
      "[['\\\\x31', 'hello'], '', '', '', '', '', '', '', ['\\\\x32\\\\x11', 'world'], '', '', '', '', '', '', '', 'Gluon']\n"
     ]
    }
   ],
   "source": [
    "#initialize trie like in Ex1\n",
    "state = trie.Trie('trie_db', trie.BLANK_ROOT)\n",
    "\n",
    "#add key-value pair (010101, 'hello')\n",
    "state.update('\\x01\\x01\\x01', 'hello')\n",
    "\n",
    "#add key-value pair (01018211, 'world')\n",
    "state.update('\\x01\\x01\\x82\\x11', 'world')\n",
    "\n",
    "#add value \"Gluon\" to the branch node\n",
    "state.update('\\x01\\x01', 'Gluon')\n",
    "\n",
    "k, v = state.root_node\n",
    "\n",
    "#check node at the root\n",
    "print '\\nroot node:\\n', [k, v.encode('hex')]\n",
    "\n",
    "#get the real value stored with in the branch node\n",
    "print '\\nbranch node value:\\n', convert_to_hex_escape(state._decode_to_node(v))"
   ]
  },
  {
   "cell_type": "code",
   "execution_count": 23,
   "metadata": {},
   "outputs": [
    {
     "name": "stdout",
     "output_type": "stream",
     "text": [
      "---------AFTER UPDATE----------\n",
      "\n",
      "root node:\n",
      "['\\x00\\x01\\x01', '3f938aa593f5e78a7f1713a3c318d6bfc40656eaf3ba0c3c79fbe85051979976']\n",
      "\n",
      "the first branch node value:\n",
      "[['\\\\x31', 'hello'], '', '', '', '\\\\x40\\\\xf5\\\\x8a\\\\x52\\\\xe4\\\\xee\\\\x0b\\\\x46\\\\x92\\\\xdf\\\\xfc\\\\x58\\\\xfb\\\\xbe\\\\x01\\\\xaf\\\\x44\\\\x0d\\\\x5e\\\\x8c\\\\xa1\\\\xb8\\\\x0a\\\\x0a\\\\x7e\\\\x17\\\\x0f\\\\xc1\\\\x21\\\\xea\\\\x2a\\\\xd1', '', '', '', ['\\\\x32\\\\x11', 'world'], '', '', '', '', '', '', '', 'Gluon']\n",
      "\n",
      "value at the second extension node:\n",
      "['\\\\x00\\\\xa6', 'f4a3750177ae2e5e01b643f56d442aceea3056d21d8213806eec0053ff2735b0']\n",
      "\n",
      "the second branch node value:\n",
      "['', '', '', ['\\\\x20\\\\x6e', 'Quark'], '', '', '', '', '', '', ['\\\\x20\\\\xbf\\\\x54', 'Graviton'], '', '', '', '', '', '']\n"
     ]
    }
   ],
   "source": [
    "#add value \"Gluon\" to the branch node\n",
    "state.update('\\x01\\x01\\x4a\\x6a\\xbf\\x54', 'Graviton')\n",
    "state.update('\\x01\\x01\\x4a\\x63\\x6e', 'Quark')\n",
    "\n",
    "print '---------AFTER UPDATE----------'\n",
    "k, v = state.root_node\n",
    "\n",
    "#check node at the root\n",
    "print '\\nroot node:\\n', [k, v.encode('hex')]\n",
    "\n",
    "#get the real value stored with in the branch node\n",
    "print '\\nthe first branch node value:\\n', convert_to_hex_escape(state._decode_to_node(v))\n",
    "\n",
    "second_extension_node_hash = state._decode_to_node(v)[4]\n",
    "\n",
    "#see the value at the 4th index of the first branch node\n",
    "second_extension_index,  second_extension_node_value = state._decode_to_node(second_extension_node_hash)\n",
    "print '\\nvalue at the second extension node:\\n', [convert_to_hex_escape(second_extension_index), second_extension_node_value.encode('hex')]\n",
    "\n",
    "#branch node stored within the second extension node\n",
    "print '\\nthe second branch node value:\\n', convert_to_hex_escape(state._decode_to_node(second_extension_node_value))"
   ]
  },
  {
   "cell_type": "markdown",
   "metadata": {},
   "source": [
    "# Homework"
   ]
  },
  {
   "cell_type": "markdown",
   "metadata": {},
   "source": [
    "follow this example https://ethereum.org/en/developers/docs/data-structures-and-encoding/patricia-merkle-trie/"
   ]
  },
  {
   "cell_type": "code",
   "execution_count": 15,
   "metadata": {},
   "outputs": [],
   "source": [
    "def str_to_hex(s):\n",
    "    return ''.join(['\\\\x{:02x}'.format(ord(c)) for c in s])\n",
    "\n",
    "first_leaf = ('do', 'verb')\n",
    "second_leaf = ('dog', 'puppy')\n",
    "third_leaf = ('doge', 'coin')\n",
    "forth_leaf = ('horse', 'stallion')"
   ]
  },
  {
   "cell_type": "code",
   "execution_count": 16,
   "metadata": {},
   "outputs": [
    {
     "name": "stdout",
     "output_type": "stream",
     "text": [
      "\\x64\\x6f\n"
     ]
    }
   ],
   "source": [
    "# Test\n",
    "input_str = \"do\"\n",
    "print(str_to_hex(input_str))\n"
   ]
  },
  {
   "cell_type": "code",
   "execution_count": null,
   "metadata": {},
   "outputs": [],
   "source": []
  }
 ],
 "metadata": {
  "kernelspec": {
   "display_name": "Python 3",
   "language": "python",
   "name": "python3"
  },
  "language_info": {
   "codemirror_mode": {
    "name": "ipython",
    "version": 2
   },
   "file_extension": ".py",
   "mimetype": "text/x-python",
   "name": "python",
   "nbconvert_exporter": "python",
   "pygments_lexer": "ipython2",
   "version": "2.7.18"
  }
 },
 "nbformat": 4,
 "nbformat_minor": 2
}

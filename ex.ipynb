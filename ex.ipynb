{
 "cells": [
  {
   "cell_type": "code",
   "execution_count": 1,
   "metadata": {},
   "outputs": [],
   "source": [
    "import sys\n",
    "sys.path.append('src')\n",
    "import trie, utils, rlp"
   ]
  },
  {
   "cell_type": "markdown",
   "metadata": {},
   "source": [
    "# Ex1"
   ]
  },
  {
   "cell_type": "code",
   "execution_count": 6,
   "metadata": {},
   "outputs": [
    {
     "name": "stdout",
     "output_type": "stream",
     "text": [
      "root hash 46e7195cf3f2bb2f8bc6a4e5a04e42e48b056efb31e4170610d59a1da3a862d9\n",
      "root node: [' \\x01\\x01\\x02', '\\x85hello']\n",
      "hp encoded key, in hex: 20010102\n"
     ]
    }
   ],
   "source": [
    "#create empty trie\n",
    "state = trie.Trie('trie_db', trie.BLANK_ROOT)\n",
    "\n",
    "#add key-value pair (010102, 'hello')\n",
    "state.update('\\x01\\x01\\x02', rlp.encode('hello'))\n",
    "\n",
    "#check root hash\n",
    "print 'root hash', state.root_hash.encode('hex')\n",
    "\n",
    "k, v = state.root_node\n",
    "#check node at the root\n",
    "print 'root node:', [k, v]\n",
    "\n",
    "#check the encoded key\n",
    "print 'hp encoded key, in hex:', k.encode('hex')"
   ]
  },
  {
   "cell_type": "markdown",
   "metadata": {},
   "source": [
    "# Ex2"
   ]
  },
  {
   "cell_type": "code",
   "execution_count": 101,
   "metadata": {},
   "outputs": [
    {
     "name": "stdout",
     "output_type": "stream",
     "text": [
      "root hash 4a5b19d151e796482b08a1e020f1f7ef5ea7240c0171fd629598fee612892a7b\n",
      "root node: [' \\x01\\x01\\x02', '\\xc6\\x85hello']\n",
      "hp encoded key, in hex: 20010102\n"
     ]
    }
   ],
   "source": [
    "#initialize trie\n",
    "state = trie.Trie('triedb', trie.BLANK_ROOT)\n",
    "state.update('\\x01\\x01\\x02', rlp.encode(['hello']))\n",
    "print 'root hash', state.root_hash.encode('hex')\n",
    "k, v = state.root_node\n",
    "print 'root node:', [k, v]\n",
    "print 'hp encoded key, in hex:', k.encode('hex')"
   ]
  },
  {
   "cell_type": "code",
   "execution_count": 102,
   "metadata": {},
   "outputs": [
    {
     "name": "stdout",
     "output_type": "stream",
     "text": [
      "---------AFTER UPDATE----------\n",
      "root hash d317ba2ed839b01ea6be74401249a7112aed2643666927b734578f8f2334db28\n",
      "root node: ['\\x00\\x01\\x01\\x02', '6tj4\\xa9\\xf2SJoxi;\\xdd\\xa0}H\\x1a\\xddM9\\xb6\\x8f0\\xee\\x1c\\xfd+q(VY`']\n",
      "hp encoded key, in hex: 00010102\n",
      "[['1', '\\xc6\\x85test1'], ['2', '\\xc6\\x85test2'], '', '', '', '', '', '', '', '', '', '', '', '', '', '', '\\xc6\\x85hello']\n"
     ]
    }
   ],
   "source": [
    "state.update('\\x01\\x01\\x02\\x01', rlp.encode(['test1']))\n",
    "state.update('\\x01\\x01\\x02\\x12', rlp.encode(['test2']))\n",
    "\n",
    "print '---------AFTER UPDATE----------'\n",
    "print 'root hash', state.root_hash.encode('hex')\n",
    "k, v = state.root_node\n",
    "print 'root node:', [k, v]\n",
    "print 'hp encoded key, in hex:', k.encode('hex')\n",
    "\n",
    "common_prefix_key, node_hash = state.root_node\n",
    "print state._decode_to_node(node_hash)"
   ]
  },
  {
   "cell_type": "code",
   "execution_count": 103,
   "metadata": {},
   "outputs": [
    {
     "name": "stdout",
     "output_type": "stream",
     "text": [
      "---------AFTER UPDATE2----------\n",
      "root hash 3f92ddf32437463622180645b71099cfc708568da17a9346bb986b9f153b251d\n",
      "root node: ['\\x00\\x01\\x01\\x02', '\\x92\\xbbF\\xe8;\\tr\\x00tk\\x93V\\x9be\\xaa\\xcc\\\\\\x16u\\x1d\\x93;(\\xe5U5)\\xe8G{\\xd4_']\n",
      "hp encoded key, in hex: 00010102\n",
      "[['1', '\\xc6\\x85test1'], ['2', '\\xc6\\x85test2'], ['5\\xab\\xcd', '\\xc6\\x85test1'], ['6\\xef\\x12', '\\xc6\\x85test2'], '', '', '', '', '', '', '', '', '', '', '', '', '\\xc6\\x85hello']\n"
     ]
    }
   ],
   "source": [
    "\n",
    "state.update('\\x01\\x01\\x02\\x25\\xab\\xcd', rlp.encode(['test1']))\n",
    "state.update('\\x01\\x01\\x02\\x36\\xef\\x12', rlp.encode(['test2']))\n",
    "\n",
    "print '---------AFTER UPDATE2----------'\n",
    "print 'root hash', state.root_hash.encode('hex')\n",
    "k, v = state.root_node\n",
    "print 'root node:', [k, v]\n",
    "print 'hp encoded key, in hex:', k.encode('hex')\n",
    "\n",
    "common_prefix_key, node_hash = state.root_node\n",
    "print state._decode_to_node(node_hash)"
   ]
  },
  {
   "cell_type": "markdown",
   "metadata": {},
   "source": [
    "# Ex3"
   ]
  },
  {
   "cell_type": "code",
   "execution_count": 105,
   "metadata": {},
   "outputs": [
    {
     "name": "stdout",
     "output_type": "stream",
     "text": [
      "root hash 4a5b19d151e796482b08a1e020f1f7ef5ea7240c0171fd629598fee612892a7b\n",
      "root node: [' \\x01\\x01\\x02', '\\xc6\\x85hello']\n",
      "hp encoded key, in hex: 20010102\n"
     ]
    }
   ],
   "source": [
    "#initialize trie\n",
    "state = trie.Trie('triedb', trie.BLANK_ROOT)\n",
    "state.update('\\x01\\x01\\x02', rlp.encode(['hello']))\n",
    "print 'root hash', state.root_hash.encode('hex')\n",
    "k, v = state.root_node\n",
    "print 'root node:', [k, v]\n",
    "print 'hp encoded key, in hex:', k.encode('hex')"
   ]
  },
  {
   "cell_type": "code",
   "execution_count": 106,
   "metadata": {},
   "outputs": [
    {
     "name": "stdout",
     "output_type": "stream",
     "text": [
      "---------------------\n",
      "root hash 53733ab375e80275bd427b3f11ab15635c92e530d9583d917cc75b50410d829f\n",
      "root node: ['\\x00\\x01\\x01', '\\xe4\\xc6\\xaf\\xd81\\xd1\\xbd_\\xd5\\x8a\\x03\\xea~Vh5dr2\\x17b\\xf6\\xd7\\x86\\x15e\\xd1kC*\\xa0T']\n",
      "hp encoded key, in hex: 000101\n",
      "[['2', '\\xc6\\x85hello'], '\\xee\\xfb\\xe07\\x18\\xa5=\\xaa\\xfc\\x12\\xab\\xc5HKWl$\\xbbxI\\x15\\x8a\\xb9\\x80\\xce\\x15\\xbbebL\\x1b\\xa6', '', '', '', '', '', '', '', '', '', '', '', '', '', '', '']\n"
     ]
    }
   ],
   "source": [
    "state.update('\\x01\\x01\\x12', rlp.encode(['test1']))\n",
    "state.update('\\x01\\x01\\x13', rlp.encode(['test2']))\n",
    "\n",
    "print '---------------------'\n",
    "print 'root hash', state.root_hash.encode('hex')\n",
    "k, v = state.root_node\n",
    "print 'root node:', [k, v]\n",
    "print 'hp encoded key, in hex:', k.encode('hex')\n",
    "\n",
    "common_prefix_key, node_hash = state.root_node\n",
    "print state._decode_to_node(node_hash)"
   ]
  },
  {
   "cell_type": "code",
   "execution_count": 109,
   "metadata": {},
   "outputs": [
    {
     "name": "stdout",
     "output_type": "stream",
     "text": [
      "eefbe03718a53daafc12abc5484b576c24bb7849158ab980ce15bb65624c1ba6\n",
      "['', '', [' ', '\\xc6\\x85test1'], [' ', '\\xc6\\x85test2'], '', '', '', '', '', '', '', '', '', '', '', '', '']\n"
     ]
    }
   ],
   "source": [
    "next_node_hash = state._decode_to_node(state.root_node[1])[1]\n",
    "print next_node_hash.encode('hex')\n",
    "print state._decode_to_node(next_node_hash)"
   ]
  },
  {
   "cell_type": "markdown",
   "metadata": {},
   "source": [
    "# Ex4"
   ]
  },
  {
   "cell_type": "code",
   "execution_count": 118,
   "metadata": {},
   "outputs": [
    {
     "name": "stdout",
     "output_type": "stream",
     "text": [
      "root hash 4a5b19d151e796482b08a1e020f1f7ef5ea7240c0171fd629598fee612892a7b\n",
      "root node: [' \\x01\\x01\\x02', '\\xc6\\x85hello']\n",
      "hp encoded key, in hex: 20010102\n"
     ]
    }
   ],
   "source": [
    "#initialize trie\n",
    "state = trie.Trie('triedb', trie.BLANK_ROOT)\n",
    "state.update('\\x01\\x01\\x02', rlp.encode(['hello']))\n",
    "print 'root hash', state.root_hash.encode('hex')\n",
    "k, v = state.root_node\n",
    "print 'root node:', [k, v]\n",
    "print 'hp encoded key, in hex:', k.encode('hex')"
   ]
  },
  {
   "cell_type": "code",
   "execution_count": 3,
   "metadata": {},
   "outputs": [
    {
     "name": "stdout",
     "output_type": "stream",
     "text": [
      "---------------------\n",
      "root hash 9f9292dff56eefb7dc2ea372f82908dfcfabe1deee074fa0fd02c71de8bd2384\n",
      "root node: ['\\x10\\x10\\x10', '\\x95B\\xe2@\\xe3z\\n\\xe2eI>Ic\\t>t\\xe9Yt\\x0e+\\xecTF\\xe0\\xb5\\x1d|kG\\xfd\\xf2']\n",
      "hp encoded key, in hex: 101010\n",
      "['', '', [' ', '\\xc6\\x85hello'], [' ', '\\xc6\\x85test1'], '', [' \\x11\"\\x12', '\\xc6\\x85test2'], '', '', '', '', '', '', '', '', '', '', '']\n"
     ]
    }
   ],
   "source": [
    "state.update('\\x01\\x01\\x03', rlp.encode(['test1']))\n",
    "state.update('\\x01\\x01\\x05\\x11\\x22\\x12', rlp.encode(['test2']))\n",
    "print '---------------------'\n",
    "print 'root hash', state.root_hash.encode('hex')\n",
    "k, v = state.root_node\n",
    "print 'root node:', [k, v]\n",
    "print 'hp encoded key, in hex:', k.encode('hex')\n",
    "common_prefix_key, node_hash = state.root_node\n",
    "print state._decode_to_node(node_hash)"
   ]
  },
  {
   "cell_type": "markdown",
   "metadata": {},
   "source": [
    "# Ex5"
   ]
  },
  {
   "cell_type": "code",
   "execution_count": 111,
   "metadata": {},
   "outputs": [
    {
     "name": "stdout",
     "output_type": "stream",
     "text": [
      "root hash 4a5b19d151e796482b08a1e020f1f7ef5ea7240c0171fd629598fee612892a7b\n",
      "root node: [' \\x01\\x01\\x02', '\\xc6\\x85hello']\n",
      "hp encoded key, in hex: 20010102\n"
     ]
    }
   ],
   "source": [
    "#initialize trie\n",
    "state = trie.Trie('triedb', trie.BLANK_ROOT)\n",
    "state.update('\\x01\\x01\\x02', rlp.encode(['hello']))\n",
    "print 'root hash', state.root_hash.encode('hex')\n",
    "k, v = state.root_node\n",
    "print 'root node:', [k, v]\n",
    "print 'hp encoded key, in hex:', k.encode('hex')"
   ]
  },
  {
   "cell_type": "code",
   "execution_count": 112,
   "metadata": {},
   "outputs": [
    {
     "name": "stdout",
     "output_type": "stream",
     "text": [
      "---------------------\n",
      "root hash f09fca588bb29c99b52d36a94540613e73f76d8b8aa510a6a5dd3522cf4b742a\n",
      "root node: ['\\x00\\x01\\x01', '\\xa1\\xd9\\xe5\\xe6\\xf0/\\x05\\x88\\xdc\\xd6IC\\x8d\\xcf\\x8c\\x87\\xc6\\xfa\\xc89\\xa6\\x85d]!E\\xc3\\xfey\\x08UB']\n",
      "hp encoded key, in hex: 000101\n",
      "[['2', '\\xc6\\x85hello'], '\\x01\\x9fb~\\xe2\\xd7\\xf1\\n\\x07\\x055:_\\xe4\\xd5\\x1b{\\x19\\xf6\\xc8\\x0c7\\x07\\xac\\x86@\\xf9\\x05s\\x11\\xd0z', '', '', '', '', '', '', '', '', '', '', '', '', '', '', '']\n"
     ]
    }
   ],
   "source": [
    "state.update('\\x01\\x01\\x12\\x11\\x22', rlp.encode(['test1']))\n",
    "state.update('\\x01\\x01\\x13\\x12\\x13', rlp.encode(['test2']))\n",
    "\n",
    "print '---------------------'\n",
    "print 'root hash', state.root_hash.encode('hex')\n",
    "k, v = state.root_node\n",
    "print 'root node:', [k, v]\n",
    "print 'hp encoded key, in hex:', k.encode('hex')\n",
    "\n",
    "common_prefix_key, node_hash = state.root_node\n",
    "print state._decode_to_node(node_hash)"
   ]
  },
  {
   "cell_type": "code",
   "execution_count": 117,
   "metadata": {},
   "outputs": [
    {
     "name": "stdout",
     "output_type": "stream",
     "text": [
      "019f627ee2d7f10a0705353a5fe4d51b7b19f6c80c3707ac8640f9057311d07a\n",
      "['', '', [' \\x11\"', '\\xc6\\x85test1'], [' \\x12\\x13', '\\xc6\\x85test2'], '', '', '', '', '', '', '', '', '', '', '', '', '']\n"
     ]
    }
   ],
   "source": [
    "next_node_hash = state._decode_to_node(state.root_node[1])[1]\n",
    "print next_node_hash.encode('hex')\n",
    "print state._decode_to_node(next_node_hash)"
   ]
  },
  {
   "cell_type": "markdown",
   "metadata": {},
   "source": [
    "# Ex7"
   ]
  },
  {
   "cell_type": "markdown",
   "metadata": {},
   "source": [
    "follow this example https://ethereum.org/en/developers/docs/data-structures-and-encoding/patricia-merkle-trie/"
   ]
  },
  {
   "cell_type": "code",
   "execution_count": 15,
   "metadata": {},
   "outputs": [
    {
     "data": {
      "text/plain": [
       "'646f'"
      ]
     },
     "execution_count": 15,
     "metadata": {},
     "output_type": "execute_result"
    }
   ],
   "source": [
    "def str_to_hex(s):\n",
    "    return ''.join(['\\\\x{:02x}'.format(ord(c)) for c in s])\n",
    "\n",
    "first_leaf = ('do', 'verb')\n",
    "second_leaf = ('dog', 'puppy')\n",
    "third_leaf = ('doge', 'coin')\n",
    "forth_leaf = ('horse', 'stallion')"
   ]
  },
  {
   "cell_type": "code",
   "execution_count": 14,
   "metadata": {},
   "outputs": [
    {
     "name": "stdout",
     "output_type": "stream",
     "text": [
      "\\x64\\x6f\n"
     ]
    }
   ],
   "source": [
    "\n",
    "# Test\n",
    "input_str = \"do\"\n",
    "print(str_to_hex(input_str))\n"
   ]
  },
  {
   "cell_type": "markdown",
   "metadata": {},
   "source": [
    "# Ex8"
   ]
  },
  {
   "cell_type": "code",
   "execution_count": 31,
   "metadata": {},
   "outputs": [
    {
     "name": "stdout",
     "output_type": "stream",
     "text": [
      "root hash 4a5b19d151e796482b08a1e020f1f7ef5ea7240c0171fd629598fee612892a7b\n",
      "root node: [' \\x01\\x01\\x02', '\\xc6\\x85hello']\n",
      "hp encoded key, in hex: 20010102\n"
     ]
    }
   ],
   "source": [
    "#initialize trie\n",
    "state = trie.Trie('triedb', trie.BLANK_ROOT)\n",
    "state.update('\\x01\\x01\\x02', rlp.encode(['hello']))\n",
    "print 'root hash', state.root_hash.encode('hex')\n",
    "k, v = state.root_node\n",
    "print 'root node:', [k, v]\n",
    "print 'hp encoded key, in hex:', k.encode('hex')"
   ]
  },
  {
   "cell_type": "code",
   "execution_count": 32,
   "metadata": {},
   "outputs": [
    {
     "name": "stdout",
     "output_type": "stream",
     "text": [
      "---------------------\n",
      "root hash 53733ab375e80275bd427b3f11ab15635c92e530d9583d917cc75b50410d829f\n",
      "root node: ['\\x00\\x01\\x01', '\\xe4\\xc6\\xaf\\xd81\\xd1\\xbd_\\xd5\\x8a\\x03\\xea~Vh5dr2\\x17b\\xf6\\xd7\\x86\\x15e\\xd1kC*\\xa0T']\n",
      "hp encoded key, in hex: 000101\n",
      "[['2', '\\xc6\\x85hello'], '\\xee\\xfb\\xe07\\x18\\xa5=\\xaa\\xfc\\x12\\xab\\xc5HKWl$\\xbbxI\\x15\\x8a\\xb9\\x80\\xce\\x15\\xbbebL\\x1b\\xa6', '', '', '', '', '', '', '', '', '', '', '', '', '', '', '']\n",
      "3\n"
     ]
    }
   ],
   "source": [
    "state.update('\\x01\\x01\\x12', rlp.encode(['test1']))\n",
    "state.update('\\x01\\x01\\x13', rlp.encode(['test2']))\n",
    "\n",
    "print '---------------------'\n",
    "print 'root hash', state.root_hash.encode('hex')\n",
    "k, v = state.root_node\n",
    "print 'root node:', [k, v]\n",
    "print 'hp encoded key, in hex:', k.encode('hex')\n",
    "\n",
    "common_prefix_key, node_hash = state.root_node\n",
    "print state._decode_to_node(node_hash)\n",
    "print state._get_node_type(state._decode_to_node(node_hash))"
   ]
  },
  {
   "cell_type": "code",
   "execution_count": 33,
   "metadata": {},
   "outputs": [
    {
     "data": {
      "text/plain": [
       "3"
      ]
     },
     "execution_count": 33,
     "metadata": {},
     "output_type": "execute_result"
    }
   ],
   "source": [
    "trie.NODE_TYPE_BRANCH"
   ]
  },
  {
   "cell_type": "code",
   "execution_count": 34,
   "metadata": {},
   "outputs": [
    {
     "data": {
      "text/plain": [
       "1"
      ]
     },
     "execution_count": 34,
     "metadata": {},
     "output_type": "execute_result"
    }
   ],
   "source": [
    "trie.NODE_TYPE_LEAF"
   ]
  },
  {
   "cell_type": "code",
   "execution_count": 35,
   "metadata": {},
   "outputs": [
    {
     "data": {
      "text/plain": [
       "2"
      ]
     },
     "execution_count": 35,
     "metadata": {},
     "output_type": "execute_result"
    }
   ],
   "source": [
    "trie.NODE_TYPE_EXTENSION"
   ]
  },
  {
   "cell_type": "code",
   "execution_count": null,
   "metadata": {},
   "outputs": [],
   "source": []
  }
 ],
 "metadata": {
  "kernelspec": {
   "display_name": "Python 3",
   "language": "python",
   "name": "python3"
  },
  "language_info": {
   "codemirror_mode": {
    "name": "ipython",
    "version": 2
   },
   "file_extension": ".py",
   "mimetype": "text/x-python",
   "name": "python",
   "nbconvert_exporter": "python",
   "pygments_lexer": "ipython2",
   "version": "2.7.18"
  }
 },
 "nbformat": 4,
 "nbformat_minor": 2
}
